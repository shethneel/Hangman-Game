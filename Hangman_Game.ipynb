{
  "nbformat": 4,
  "nbformat_minor": 0,
  "metadata": {
    "colab": {
      "name": "Hangman Game.ipynb",
      "provenance": []
    },
    "kernelspec": {
      "name": "python3",
      "display_name": "Python 3"
    }
  },
  "cells": [
    {
      "cell_type": "code",
      "metadata": {
        "id": "-J-fgFr8Svjx",
        "colab_type": "code",
        "colab": {
          "base_uri": "https://localhost:8080/",
          "height": 238
        },
        "outputId": "1c8de6d4-3a45-42cb-9b9b-319fc5201aef"
      },
      "source": [
        "print ('WELCOME TO THE HANGMAN GAME')\n",
        "print (\"Today's word : King of animals\")\n",
        "print ('Word length - 4')\n",
        "word = \"LION\"\n",
        "word = list(word) #THIS WILL DIVIDE YOUR WORD INTO INDIVIDUAL LETTER\n",
        "gword = '_'*len(word) #GWORD = GUSSED WORD\n",
        "gword = list(gword)\n",
        "ip = input(\"Enter your guess: \")\n",
        "while True: # WE HAVE USED HERE TRUE CAUSE WE WANT INFINITE LOOP, THERE'S NO TIME LIMIT SET BY US \n",
        "    if ip.upper() in word: # HERE WE ARE USING IP.UPPER TO PRINT INPUT LETTER IN UPPER CAUSE BECAUSE OUR MAIN WORD IS IN SAME\n",
        "        index = word.index(ip.upper()) #IF INPUT LETTER IS AVAILABLE IN MAIN WORD, THIS WILL FIND INDEX VALUE OF IT\n",
        "        gword[index] = ip.upper() #IF IT FINDS INDEX VALUE, THIS WILL PUT IT ON GUESS WORD\n",
        "        print (gword)\n",
        "    if '_' not in gword:\n",
        "        print (\"YOU WIN\")\n",
        "        break\n",
        "    ip = input(\"Enter your guess: \")"
      ],
      "execution_count": 1,
      "outputs": [
        {
          "output_type": "stream",
          "text": [
            "WELCOME TO THE HANGMAN GAME\n",
            "Today's word : King of animals\n",
            "Word length - 4\n",
            "Enter your guess: l\n",
            "['L', '_', '_', '_']\n",
            "Enter your guess: w\n",
            "Enter your guess: i\n",
            "['L', 'I', '_', '_']\n",
            "Enter your guess: o\n",
            "['L', 'I', 'O', '_']\n",
            "Enter your guess: n\n",
            "['L', 'I', 'O', 'N']\n",
            "YOU WIN\n"
          ],
          "name": "stdout"
        }
      ]
    }
  ]
}