{
  "nbformat": 4,
  "nbformat_minor": 0,
  "metadata": {
    "colab": {
      "name": "Hangman Game.ipynb",
      "provenance": []
    },
    "kernelspec": {
      "name": "python3",
      "display_name": "Python 3"
    }
  },
  "cells": [
    {
      "cell_type": "code",
      "metadata": {
        "id": "-J-fgFr8Svjx",
        "colab_type": "code",
        "outputId": "27afffae-8101-4c8c-b1ff-f1b6894442c6",
        "colab": {
          "base_uri": "https://localhost:8080/",
          "height": 289
        }
      },
      "source": [
        "print ('WELCOME TO THE HANGMAN GAME')\n",
        "print (\"Today's word : Your country name\")\n",
        "print ('Word length - 5')\n",
        "word = \"INDIA\"\n",
        "word = list(word) #THIS WILL DIVIDE YOUR WORD INTO INDIVIDUAL LETTER\n",
        "gword = '_'*len(word) #GWORD = GUSSED WORD\n",
        "gword = list(gword)\n",
        "ip = input(\"Enter your guess: \")\n",
        "while True: # WE HAVE USED HERE TRUE CAUSE WE WANT INFINITE LOOP, THERE'S NO TIME LIMIT SET BY US \n",
        "    if ip.upper() in word: # HERE WE ARE USING IP.UPPER TO PRINT INPUT LETTER IN UPPER CAUSE BECAUSE OUR MAIN WORD IS IN SAME\n",
        "        index = word.index(ip.upper()) #IF INPUT LETTER IS AVAILABLE IN MAIN WORD, THIS WILL FIND INDEX VALUE OF IT\n",
        "        gword[index] = ip.upper() #IF IT FINDS INDEX VALUE, THIS WILL PUT IT ON GUESS WORD\n",
        "        word[index] = '_' #IF THE LETTERS ARE REPEATING, WE'LL USE THIS FOR REPETATIVE WORDS\n",
        "        print (gword)\n",
        "    if '_' not in gword:\n",
        "        print (\"YOU WIN\")\n",
        "        break\n",
        "    ip = input(\"Enter your guess: \")"
      ],
      "execution_count": 2,
      "outputs": [
        {
          "output_type": "stream",
          "text": [
            "WELCOME TO THE HANGMAN GAME\n",
            "Today's word : Your country name\n",
            "Word length - 5\n",
            "Enter your guess: I\n",
            "['I', '_', '_', '_', '_']\n",
            "Enter your guess: N\n",
            "['I', 'N', '_', '_', '_']\n",
            "Enter your guess: N\n",
            "Enter your guess: D\n",
            "['I', 'N', 'D', '_', '_']\n",
            "Enter your guess: \n",
            "Enter your guess: a\n",
            "['I', 'N', 'D', '_', 'A']\n",
            "Enter your guess: i\n",
            "['I', 'N', 'D', 'I', 'A']\n",
            "YOU WIN\n"
          ],
          "name": "stdout"
        }
      ]
    }
  ]
}
